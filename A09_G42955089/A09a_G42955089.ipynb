{
 "cells": [
  {
   "cell_type": "markdown",
   "metadata": {},
   "source": [
    "### Part A ###"
   ]
  },
  {
   "cell_type": "code",
   "execution_count": 19,
   "metadata": {
    "collapsed": true
   },
   "outputs": [],
   "source": [
    "import pandas as pd"
   ]
  },
  {
   "cell_type": "code",
   "execution_count": 20,
   "metadata": {},
   "outputs": [
    {
     "name": "stdout",
     "output_type": "stream",
     "text": [
      "    Unnamed: 0 carrier                         name\n",
      "0            1      9E            Endeavor Air Inc.\n",
      "1            2      AA       American Airlines Inc.\n",
      "2            3      AS         Alaska Airlines Inc.\n",
      "3            4      B6              JetBlue Airways\n",
      "4            5      DL         Delta Air Lines Inc.\n",
      "5            6      EV     ExpressJet Airlines Inc.\n",
      "6            7      F9       Frontier Airlines Inc.\n",
      "7            8      FL  AirTran Airways Corporation\n",
      "8            9      HA       Hawaiian Airlines Inc.\n",
      "9           10      MQ                    Envoy Air\n",
      "10          11      OO        SkyWest Airlines Inc.\n",
      "11          12      UA        United Air Lines Inc.\n",
      "12          13      US              US Airways Inc.\n",
      "13          14      VX               Virgin America\n",
      "14          15      WN       Southwest Airlines Co.\n",
      "15          16      YV           Mesa Airlines Inc.\n"
     ]
    }
   ],
   "source": [
    "airlines = pd.read_csv('airlines.csv')\n",
    "print(airlines)"
   ]
  },
  {
   "cell_type": "code",
   "execution_count": 21,
   "metadata": {
    "collapsed": true
   },
   "outputs": [],
   "source": [
    "del airlines['Unnamed: 0']"
   ]
  },
  {
   "cell_type": "code",
   "execution_count": 22,
   "metadata": {},
   "outputs": [
    {
     "data": {
      "text/plain": [
       "Index(['carrier', 'name'], dtype='object')"
      ]
     },
     "execution_count": 22,
     "metadata": {},
     "output_type": "execute_result"
    }
   ],
   "source": [
    "airlines.columns"
   ]
  },
  {
   "cell_type": "code",
   "execution_count": 23,
   "metadata": {},
   "outputs": [
    {
     "name": "stdout",
     "output_type": "stream",
     "text": [
      "      Unnamed: 0  faa                                  name        lat  \\\n",
      "0              1  04G                     Lansdowne Airport  41.130472   \n",
      "1              2  06A         Moton Field Municipal Airport  32.460572   \n",
      "2              3  06C                   Schaumburg Regional  41.989341   \n",
      "3              4  06N                       Randall Airport  41.431912   \n",
      "4              5  09J                 Jekyll Island Airport  31.074472   \n",
      "5              6  0A9        Elizabethton Municipal Airport  36.371222   \n",
      "6              7  0G6               Williams County Airport  41.467306   \n",
      "7              8  0G7         Finger Lakes Regional Airport  42.883565   \n",
      "8              9  0P2          Shoestring Aviation Airfield  39.794824   \n",
      "9             10  0S9                 Jefferson County Intl  48.053809   \n",
      "10            11  0W3                Harford County Airport  39.566838   \n",
      "11            12  10C                    Galt Field Airport  42.402889   \n",
      "12            13  17G  Port Bucyrus-Crawford County Airport  40.781556   \n",
      "13            14  19A                Jackson County Airport  34.175864   \n",
      "14            15  1A3         Martin Campbell Field Airport  35.015806   \n",
      "15            16  1B9                   Mansfield Municipal  42.000133   \n",
      "16            17  1C9                  Frazier Lake Airpark  54.013333   \n",
      "17            18  1CS            Clow International Airport  41.695974   \n",
      "18            19  1G3                    Kent State Airport  41.151389   \n",
      "19            20  1G4             Grand Canyon West Airport  35.899904   \n",
      "20            21  1H2            Effingham Memorial Airport  39.070000   \n",
      "21            22  1OH                       Fortman Airport  40.555325   \n",
      "22            23  1RL                 Point Roberts Airpark  48.979722   \n",
      "23            24  23M                             Clarke CO  32.051700   \n",
      "24            25  24C                   Lowell City Airport  42.953920   \n",
      "25            26  24J               Suwannee County Airport  30.300125   \n",
      "26            27  25D                   Forest Lake Airport  45.247746   \n",
      "27            28  29D                    Grove City Airport  41.146028   \n",
      "28            29  2A0                    Mark Anton Airport  35.486250   \n",
      "29            30  2B2                   Plum Island Airport  42.795361   \n",
      "...          ...  ...                                   ...        ...   \n",
      "1428        1429  X59                    Valkaria Municipal  27.960861   \n",
      "1429        1430  XFL                Flagler County Airport  29.282100   \n",
      "1430        1431  XNA                  NW Arkansas Regional  36.281869   \n",
      "1431        1432  XZK            Amherst Amtrak Station AMM  42.375000   \n",
      "1432        1433  Y51                     Municipal Airport  43.579360   \n",
      "1433        1434  Y72                          Bloyer Field  43.976222   \n",
      "1434        1435  YAK                               Yakutat  59.301200   \n",
      "1435        1436  YIP                            Willow Run  42.237928   \n",
      "1436        1437  YKM  Yakima Air Terminal McAllister Field  46.568200   \n",
      "1437        1438  YKN                           Chan Gurney  42.871100   \n",
      "1438        1439  YNG                Youngstown Warren Rgnl  41.260736   \n",
      "1439        1440  YUM                   Yuma Mcas Yuma Intl  32.656578   \n",
      "1440        1441  Z84                                 Clear  64.301203   \n",
      "1441        1442  ZBP                          Penn Station  39.307222   \n",
      "1442        1443  ZFV          Philadelphia 30th St Station  39.955700   \n",
      "1443        1444  ZPH                     Municipal Airport  28.228056   \n",
      "1444        1445  ZRA           Atlantic City Rail Terminal  39.366500   \n",
      "1445        1446  ZRD                         Train Station  37.534300   \n",
      "1446        1447  ZRP                   Newark Penn Station  40.734722   \n",
      "1447        1448  ZRT                Hartford Union Station  41.768880   \n",
      "1448        1449  ZRZ           New Carrollton Rail Station  38.948000   \n",
      "1449        1450  ZSF            Springfield Amtrak Station  42.106000   \n",
      "1450        1451  ZSY                    Scottsdale Airport  33.622889   \n",
      "1451        1452  ZTF               Stamford Amtrak Station  41.046937   \n",
      "1452        1453  ZTY               Boston Back Bay Station  42.347800   \n",
      "1453        1454  ZUN                            Black Rock  35.083228   \n",
      "1454        1455  ZVE                New Haven Rail Station  41.298669   \n",
      "1455        1456  ZWI             Wilmington Amtrak Station  39.736667   \n",
      "1456        1457  ZWU              Washington Union Station  38.897460   \n",
      "1457        1458  ZYP                          Penn Station  40.750500   \n",
      "\n",
      "             lon   alt  tz dst                tzone  \n",
      "0     -80.619583  1044  -5   A     America/New_York  \n",
      "1     -85.680028   264  -6   A      America/Chicago  \n",
      "2     -88.101243   801  -6   A      America/Chicago  \n",
      "3     -74.391561   523  -5   A     America/New_York  \n",
      "4     -81.427778    11  -5   A     America/New_York  \n",
      "5     -82.173417  1593  -5   A     America/New_York  \n",
      "6     -84.506778   730  -5   A     America/New_York  \n",
      "7     -76.781232   492  -5   A     America/New_York  \n",
      "8     -76.647191  1000  -5   U     America/New_York  \n",
      "9    -122.810644   108  -8   A  America/Los_Angeles  \n",
      "10    -76.202403   409  -5   A     America/New_York  \n",
      "11    -88.375111   875  -6   U      America/Chicago  \n",
      "12    -82.974806  1003  -5   A     America/New_York  \n",
      "13    -83.561597   951  -5   U     America/New_York  \n",
      "14    -84.346833  1789  -5   A     America/New_York  \n",
      "15    -71.196771   122  -5   A     America/New_York  \n",
      "16   -124.768333   152  -8   A    America/Vancouver  \n",
      "17    -88.129231   670  -6   U      America/Chicago  \n",
      "18    -81.415111  1134  -5   A     America/New_York  \n",
      "19   -113.815674  4813  -7   A      America/Phoenix  \n",
      "20    -88.534000   585  -6   A      America/Chicago  \n",
      "21    -84.386619   885  -5   U     America/New_York  \n",
      "22   -123.078889    10  -8   A  America/Los_Angeles  \n",
      "23    -88.443400   320  -6   A      America/Chicago  \n",
      "24    -85.343906   681  -5   A     America/New_York  \n",
      "25    -83.024694   104  -5   A     America/New_York  \n",
      "26    -92.994385   925  -6   A      America/Chicago  \n",
      "27    -80.167750  1371  -5   A     America/New_York  \n",
      "28    -84.931083   718  -5   A     America/New_York  \n",
      "29    -70.839444    11  -5   A     America/New_York  \n",
      "...          ...   ...  ..  ..                  ...  \n",
      "1428  -80.558333    26  -5   A     America/New_York  \n",
      "1429  -81.121200    33  -5   A     America/New_York  \n",
      "1430  -94.306811  1287  -6   A      America/Chicago  \n",
      "1431  -72.511389   258  -5   A     America/New_York  \n",
      "1432  -90.896474  1292  -6   A      America/Chicago  \n",
      "1433  -90.480611   966  -6   A      America/Chicago  \n",
      "1434 -139.393700    33  -9   A                   \\N  \n",
      "1435  -83.530408   716  -5   A     America/New_York  \n",
      "1436 -120.544000  1095  -8   A  America/Los_Angeles  \n",
      "1437  -97.396900  1200  -6   A      America/Chicago  \n",
      "1438  -80.679097  1196  -5   A     America/New_York  \n",
      "1439 -114.605980   216  -7   N      America/Phoenix  \n",
      "1440 -149.120144   552  -9   A    America/Anchorage  \n",
      "1441  -76.615556    66  -5   A     America/New_York  \n",
      "1442  -75.182000     0  -5   A     America/New_York  \n",
      "1443  -82.155833    90  -5   A     America/New_York  \n",
      "1444  -74.442000     8  -5   A     America/New_York  \n",
      "1445  -77.429450    26  -5   A     America/New_York  \n",
      "1446  -74.164167     0  -5   A     America/New_York  \n",
      "1447  -72.681500     0  -5   A     America/New_York  \n",
      "1448  -76.871900    39  -5   A     America/New_York  \n",
      "1449  -72.593054    65  -5   A     America/New_York  \n",
      "1450 -111.910528  1519  -7   A      America/Phoenix  \n",
      "1451  -73.541493     0  -5   A     America/New_York  \n",
      "1452  -71.075000    20  -5   A     America/New_York  \n",
      "1453 -108.791778  6454  -7   A       America/Denver  \n",
      "1454  -72.925992     7  -5   A     America/New_York  \n",
      "1455  -75.551667     0  -5   A     America/New_York  \n",
      "1456  -77.006430    76  -5   A     America/New_York  \n",
      "1457  -73.993500    35  -5   A     America/New_York  \n",
      "\n",
      "[1458 rows x 9 columns]\n"
     ]
    }
   ],
   "source": [
    "airports = pd.read_csv('airports.csv')\n",
    "print(airports)"
   ]
  },
  {
   "cell_type": "code",
   "execution_count": 24,
   "metadata": {
    "collapsed": true
   },
   "outputs": [],
   "source": [
    "del airports['Unnamed: 0']"
   ]
  },
  {
   "cell_type": "code",
   "execution_count": 25,
   "metadata": {},
   "outputs": [
    {
     "data": {
      "text/plain": [
       "Index(['faa', 'name', 'lat', 'lon', 'alt', 'tz', 'dst', 'tzone'], dtype='object')"
      ]
     },
     "execution_count": 25,
     "metadata": {},
     "output_type": "execute_result"
    }
   ],
   "source": [
    "airports.columns"
   ]
  },
  {
   "cell_type": "code",
   "execution_count": 26,
   "metadata": {},
   "outputs": [
    {
     "data": {
      "text/plain": [
       "Index(['Unnamed: 0', 'year', 'month', 'day', 'dep_time', 'sched_dep_time',\n",
       "       'dep_delay', 'arr_time', 'sched_arr_time', 'arr_delay', 'carrier',\n",
       "       'flight', 'tailnum', 'origin', 'dest', 'air_time', 'distance', 'hour',\n",
       "       'minute', 'time_hour'],\n",
       "      dtype='object')"
      ]
     },
     "execution_count": 26,
     "metadata": {},
     "output_type": "execute_result"
    }
   ],
   "source": [
    "flights = pd.read_csv('flights.csv')\n",
    "flights.columns"
   ]
  },
  {
   "cell_type": "code",
   "execution_count": 27,
   "metadata": {},
   "outputs": [
    {
     "data": {
      "text/plain": [
       "Index(['year', 'month', 'day', 'dep_time', 'sched_dep_time', 'dep_delay',\n",
       "       'arr_time', 'sched_arr_time', 'arr_delay', 'carrier', 'flight',\n",
       "       'tailnum', 'origin', 'dest', 'air_time', 'distance', 'hour', 'minute',\n",
       "       'time_hour'],\n",
       "      dtype='object')"
      ]
     },
     "execution_count": 27,
     "metadata": {},
     "output_type": "execute_result"
    }
   ],
   "source": [
    "del flights['Unnamed: 0']\n",
    "flights.columns"
   ]
  },
  {
   "cell_type": "code",
   "execution_count": 28,
   "metadata": {},
   "outputs": [
    {
     "data": {
      "text/plain": [
       "Index(['Unnamed: 0', 'tailnum', 'year', 'type', 'manufacturer', 'model',\n",
       "       'engines', 'seats', 'speed', 'engine'],\n",
       "      dtype='object')"
      ]
     },
     "execution_count": 28,
     "metadata": {},
     "output_type": "execute_result"
    }
   ],
   "source": [
    "planes = pd.read_csv('planes.csv')\n",
    "planes.columns"
   ]
  },
  {
   "cell_type": "code",
   "execution_count": 12,
   "metadata": {},
   "outputs": [
    {
     "data": {
      "text/plain": [
       "Index(['tailnum', 'year', 'type', 'manufacturer', 'model', 'engines', 'seats',\n",
       "       'speed', 'engine'],\n",
       "      dtype='object')"
      ]
     },
     "execution_count": 12,
     "metadata": {},
     "output_type": "execute_result"
    }
   ],
   "source": [
    "del planes['Unnamed: 0']\n",
    "planes.columns"
   ]
  },
  {
   "cell_type": "code",
   "execution_count": 29,
   "metadata": {},
   "outputs": [
    {
     "data": {
      "text/plain": [
       "Index(['Unnamed: 0', 'origin', 'year', 'month', 'day', 'hour', 'temp', 'dewp',\n",
       "       'humid', 'wind_dir', 'wind_speed', 'wind_gust', 'precip', 'pressure',\n",
       "       'visib', 'time_hour'],\n",
       "      dtype='object')"
      ]
     },
     "execution_count": 29,
     "metadata": {},
     "output_type": "execute_result"
    }
   ],
   "source": [
    "weather = pd.read_csv('weather.csv')\n",
    "weather.columns"
   ]
  },
  {
   "cell_type": "code",
   "execution_count": 30,
   "metadata": {},
   "outputs": [
    {
     "data": {
      "text/plain": [
       "Index(['origin', 'year', 'month', 'day', 'hour', 'temp', 'dewp', 'humid',\n",
       "       'wind_dir', 'wind_speed', 'wind_gust', 'precip', 'pressure', 'visib',\n",
       "       'time_hour'],\n",
       "      dtype='object')"
      ]
     },
     "execution_count": 30,
     "metadata": {},
     "output_type": "execute_result"
    }
   ],
   "source": [
    "del weather['Unnamed: 0']\n",
    "weather.columns"
   ]
  },
  {
   "cell_type": "markdown",
   "metadata": {},
   "source": [
    "All of the code above is to load data and process uncessary columns."
   ]
  },
  {
   "cell_type": "markdown",
   "metadata": {},
   "source": [
    "Problem i."
   ]
  },
  {
   "cell_type": "code",
   "execution_count": 31,
   "metadata": {},
   "outputs": [
    {
     "data": {
      "text/plain": [
       "16"
      ]
     },
     "execution_count": 31,
     "metadata": {},
     "output_type": "execute_result"
    }
   ],
   "source": [
    "len(airlines)"
   ]
  },
  {
   "cell_type": "code",
   "execution_count": 32,
   "metadata": {},
   "outputs": [
    {
     "data": {
      "text/plain": [
       "1458"
      ]
     },
     "execution_count": 32,
     "metadata": {},
     "output_type": "execute_result"
    }
   ],
   "source": [
    "len(airports)"
   ]
  },
  {
   "cell_type": "code",
   "execution_count": 33,
   "metadata": {},
   "outputs": [
    {
     "data": {
      "text/plain": [
       "336776"
      ]
     },
     "execution_count": 33,
     "metadata": {},
     "output_type": "execute_result"
    }
   ],
   "source": [
    "len(flights)"
   ]
  },
  {
   "cell_type": "code",
   "execution_count": 34,
   "metadata": {},
   "outputs": [
    {
     "data": {
      "text/plain": [
       "3322"
      ]
     },
     "execution_count": 34,
     "metadata": {},
     "output_type": "execute_result"
    }
   ],
   "source": [
    "len(planes)"
   ]
  },
  {
   "cell_type": "code",
   "execution_count": 35,
   "metadata": {},
   "outputs": [
    {
     "data": {
      "text/plain": [
       "26130"
      ]
     },
     "execution_count": 35,
     "metadata": {},
     "output_type": "execute_result"
    }
   ],
   "source": [
    "len(weather)"
   ]
  },
  {
   "cell_type": "markdown",
   "metadata": {},
   "source": [
    "Problem ii."
   ]
  },
  {
   "cell_type": "code",
   "execution_count": 36,
   "metadata": {},
   "outputs": [
    {
     "data": {
      "text/plain": [
       "ORD    17283\n",
       "ATL    17215\n",
       "LAX    16174\n",
       "BOS    15508\n",
       "MCO    14082\n",
       "Name: dest, dtype: int64"
      ]
     },
     "execution_count": 36,
     "metadata": {},
     "output_type": "execute_result"
    }
   ],
   "source": [
    "flights['dest'].value_counts().head(5)"
   ]
  },
  {
   "cell_type": "markdown",
   "metadata": {},
   "source": [
    "It indicates that the top five busiest airports are ORD, ATL, LAX, BOS and MCO."
   ]
  },
  {
   "cell_type": "code",
   "execution_count": 16,
   "metadata": {},
   "outputs": [],
   "source": [
    "month_day = {1:0,2:31,3:28,4:31,5:30,6:31,7:30,8:31,9:31,10:30,11:31,12:30}"
   ]
  },
  {
   "cell_type": "code",
   "execution_count": 17,
   "metadata": {},
   "outputs": [],
   "source": [
    "cum_monthday={}\n",
    "sum = 0\n",
    "for i in range(1,13):\n",
    "    sum = sum + month_day[i]\n",
    "    cum_monthday[i]=sum"
   ]
  },
  {
   "cell_type": "code",
   "execution_count": 82,
   "metadata": {},
   "outputs": [
    {
     "name": "stderr",
     "output_type": "stream",
     "text": [
      "C:\\Anaconda\\lib\\site-packages\\ipykernel_launcher.py:7: RuntimeWarning: invalid value encountered in double_scalars\n",
      "  import sys\n"
     ]
    }
   ],
   "source": [
    "cumtime=[]\n",
    "for i in range(len(flights)):\n",
    "    day = flights.day[i]-1\n",
    "    if flights.arr_time[i] < flights.dep_time[i]:\n",
    "        day = day + 1\n",
    "    hour = round(flights.arr_time[i]/100)\n",
    "    minute = flights.arr_time[i]%100\n",
    "    cumtime.append(cum_monthday[flights.month[i]]*24*60 + day*24*60 +hour*60 + minute)"
   ]
  },
  {
   "cell_type": "code",
   "execution_count": 86,
   "metadata": {},
   "outputs": [],
   "source": [
    "val = pd.Series(cumtime,index = [a for a in range(len(flights))])"
   ]
  },
  {
   "cell_type": "code",
   "execution_count": 87,
   "metadata": {
    "collapsed": true
   },
   "outputs": [],
   "source": [
    "flights['arr_cumtime'] = val"
   ]
  },
  {
   "cell_type": "code",
   "execution_count": 92,
   "metadata": {
    "collapsed": true
   },
   "outputs": [],
   "source": [
    "import numpy as np\n",
    "\n",
    "\n",
    "def flight_msd(airportname):\n",
    "    data = flights[flights['dest'] == airportname]['arr_cumtime']\n",
    "    ddiff = data.sort_values().diff().dropna().apply(abs)\n",
    "    avg = np.mean(ddiff)\n",
    "    sd = np.std(ddiff)\n",
    "    return round(avg,2),round(sd,2)"
   ]
  },
  {
   "cell_type": "code",
   "execution_count": 93,
   "metadata": {},
   "outputs": [
    {
     "data": {
      "text/plain": [
       "(31.62, 72.68)"
      ]
     },
     "execution_count": 93,
     "metadata": {},
     "output_type": "execute_result"
    }
   ],
   "source": [
    "flight_msd('ORD')"
   ]
  },
  {
   "cell_type": "code",
   "execution_count": 94,
   "metadata": {},
   "outputs": [
    {
     "data": {
      "text/plain": [
       "(31.12, 73.34)"
      ]
     },
     "execution_count": 94,
     "metadata": {},
     "output_type": "execute_result"
    }
   ],
   "source": [
    "flight_msd('ATL')"
   ]
  },
  {
   "cell_type": "code",
   "execution_count": 95,
   "metadata": {},
   "outputs": [
    {
     "data": {
      "text/plain": [
       "(32.7, 69.31)"
      ]
     },
     "execution_count": 95,
     "metadata": {},
     "output_type": "execute_result"
    }
   ],
   "source": [
    "flight_msd('LAX')"
   ]
  },
  {
   "cell_type": "code",
   "execution_count": 96,
   "metadata": {},
   "outputs": [
    {
     "data": {
      "text/plain": [
       "(34.95, 66.47)"
      ]
     },
     "execution_count": 96,
     "metadata": {},
     "output_type": "execute_result"
    }
   ],
   "source": [
    "flight_msd('BOS')"
   ]
  },
  {
   "cell_type": "code",
   "execution_count": 97,
   "metadata": {},
   "outputs": [
    {
     "data": {
      "text/plain": [
       "(37.57, 72.64)"
      ]
     },
     "execution_count": 97,
     "metadata": {},
     "output_type": "execute_result"
    }
   ],
   "source": [
    "flight_msd('MCO')"
   ]
  },
  {
   "cell_type": "markdown",
   "metadata": {},
   "source": [
    "Problem iii."
   ]
  },
  {
   "cell_type": "code",
   "execution_count": 104,
   "metadata": {
    "collapsed": true
   },
   "outputs": [],
   "source": [
    "import pandas as pd\n",
    "import matplotlib.pyplot as plt\n",
    "from scipy import stats\n",
    "\n",
    "def flight_plot(airportname):\n",
    "    data = flights[flights['dest'] == airportname]['arr_cumtime']\n",
    "    ddiff = data.sort_values().diff().dropna().apply(abs)\n",
    "    kde = stats.gaussian_kde(ddiff)\n",
    "    xs=np.linspace(0,1200,200)\n",
    "    kde.covariance_factor = lambda : .25\n",
    "    kde._compute_covariance()\n",
    "    plt.clf\n",
    "    fig=plt.figure()\n",
    "    ax1=fig.add_subplot(2,1,1)\n",
    "    ax1.set_title('Histogram')\n",
    "    ax2=fig.add_subplot(2,1,2)\n",
    "    ax2.set_title('Density Plot')\n",
    "    ax1.hist(ddiff,bins=100,alpha=0.3)\n",
    "    ax2.plot(xs, kde(xs))\n",
    "    plt.show()\n"
   ]
  },
  {
   "cell_type": "code",
   "execution_count": 105,
   "metadata": {},
   "outputs": [
    {
     "data": {
      "image/png": "[encoded data removed]",
      "text/plain": [
       "<matplotlib.figure.Figure at 0x2829b4b6860>"
      ]
     },
     "metadata": {},
     "output_type": "display_data"
    }
   ],
   "source": [
    "flight_plot('ORD')"
   ]
  },
  {
   "cell_type": "code",
   "execution_count": 106,
   "metadata": {},
   "outputs": [
    {
     "data": {
      "image/png": "[encoded data removed]",
      "text/plain": [
       "<matplotlib.figure.Figure at 0x2829b743f60>"
      ]
     },
     "metadata": {},
     "output_type": "display_data"
    }
   ],
   "source": [
    "flight_plot('ATL')"
   ]
  },
  {
   "cell_type": "code",
   "execution_count": 107,
   "metadata": {},
   "outputs": [
    {
     "data": {
      "image/png": "[encoded data removed]",
      "text/plain": [
       "<matplotlib.figure.Figure at 0x2829b3530f0>"
      ]
     },
     "metadata": {},
     "output_type": "display_data"
    }
   ],
   "source": [
    "flight_plot('LAX')"
   ]
  },
  {
   "cell_type": "code",
   "execution_count": 108,
   "metadata": {},
   "outputs": [
    {
     "data": {
      "image/png": "[encoded data removed]",
      "text/plain": [
       "<matplotlib.figure.Figure at 0x2829b3534a8>"
      ]
     },
     "metadata": {},
     "output_type": "display_data"
    }
   ],
   "source": [
    "flight_plot('BOS')"
   ]
  },
  {
   "cell_type": "code",
   "execution_count": 109,
   "metadata": {},
   "outputs": [
    {
     "data": {
      "image/png": "[encoded data removed]",
      "text/plain": [
       "<matplotlib.figure.Figure at 0x2829b765b70>"
      ]
     },
     "metadata": {},
     "output_type": "display_data"
    }
   ],
   "source": [
    "flight_plot('MCO')"
   ]
  }
 ],
 "metadata": {
  "kernelspec": {
   "display_name": "Python 3",
   "language": "python",
   "name": "python3"
  },
  "language_info": {
   "codemirror_mode": {
    "name": "ipython",
    "version": 3
   },
   "file_extension": ".py",
   "mimetype": "text/x-python",
   "name": "python",
   "nbconvert_exporter": "python",
   "pygments_lexer": "ipython3",
   "version": "3.6.1"
  }
 },
 "nbformat": 4,
 "nbformat_minor": 2
}
