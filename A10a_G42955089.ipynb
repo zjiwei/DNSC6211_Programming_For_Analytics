{
 "cells": [
  {
   "cell_type": "markdown",
   "metadata": {},
   "source": [
    "### Part A ###"
   ]
  },
  {
   "cell_type": "code",
   "execution_count": 2,
   "metadata": {
    "collapsed": true
   },
   "outputs": [],
   "source": [
    "from sklearn import linear_model\n",
    "import numpy as np"
   ]
  },
  {
   "cell_type": "markdown",
   "metadata": {},
   "source": [
    "Load the data"
   ]
  },
  {
   "cell_type": "code",
   "execution_count": 3,
   "metadata": {
    "collapsed": true
   },
   "outputs": [],
   "source": [
    "import pandas as pd\n",
    "\n",
    "train = pd.read_csv('train.csv')\n",
    "\n",
    "test = pd.read_csv('test.csv')"
   ]
  },
  {
   "cell_type": "markdown",
   "metadata": {},
   "source": [
    "Keep the data of ID."
   ]
  },
  {
   "cell_type": "code",
   "execution_count": 4,
   "metadata": {
    "collapsed": true
   },
   "outputs": [],
   "source": [
    "predictions = pd.DataFrame(test['id']).iloc[0:len(test)]"
   ]
  },
  {
   "cell_type": "code",
   "execution_count": 5,
   "metadata": {
    "collapsed": true
   },
   "outputs": [],
   "source": [
    "# Create linear regression object\n",
    "regr = linear_model.LinearRegression()"
   ]
  },
  {
   "cell_type": "code",
   "execution_count": 6,
   "metadata": {
    "collapsed": true
   },
   "outputs": [],
   "source": [
    "from sklearn import preprocessing"
   ]
  },
  {
   "cell_type": "code",
   "execution_count": 7,
   "metadata": {
    "collapsed": true
   },
   "outputs": [],
   "source": [
    "le = preprocessing.LabelEncoder()"
   ]
  },
  {
   "cell_type": "markdown",
   "metadata": {},
   "source": [
    "Split the data of train into train_x and train_y."
   ]
  },
  {
   "cell_type": "code",
   "execution_count": 8,
   "metadata": {
    "collapsed": true
   },
   "outputs": [],
   "source": [
    "train_y = train['loss']"
   ]
  },
  {
   "cell_type": "code",
   "execution_count": 9,
   "metadata": {
    "collapsed": true
   },
   "outputs": [],
   "source": [
    "train_x = train\n",
    "\n",
    "del train_x['id']\n",
    "del train_x['loss']"
   ]
  },
  {
   "cell_type": "code",
   "execution_count": 10,
   "metadata": {
    "collapsed": true
   },
   "outputs": [],
   "source": [
    "test_x = test\n",
    "del test_x['id']\n"
   ]
  },
  {
   "cell_type": "markdown",
   "metadata": {},
   "source": [
    "Use label encoding to transfer categorial variables."
   ]
  },
  {
   "cell_type": "code",
   "execution_count": 11,
   "metadata": {
    "collapsed": true
   },
   "outputs": [],
   "source": [
    "train_x_le1 = train_x.apply(le.fit_transform)"
   ]
  },
  {
   "cell_type": "code",
   "execution_count": 12,
   "metadata": {},
   "outputs": [
    {
     "data": {
      "text/plain": [
       "LinearRegression(copy_X=True, fit_intercept=True, n_jobs=1, normalize=False)"
      ]
     },
     "execution_count": 12,
     "metadata": {},
     "output_type": "execute_result"
    }
   ],
   "source": [
    "regr.fit(train_x_le1, train_y)"
   ]
  },
  {
   "cell_type": "code",
   "execution_count": 13,
   "metadata": {},
   "outputs": [
    {
     "name": "stdout",
     "output_type": "stream",
     "text": [
      "Coefficients: \n",
      " [ -4.03035381e+02   3.27224184e+02   2.18709857e+02   3.61894624e+01\n",
      "   1.11501623e+02  -3.17027993e+02   6.36478521e+02   7.02120531e+01\n",
      "   6.09305263e+01   2.03582837e+02   1.13295669e+02   7.36804995e+02\n",
      "   1.05441144e+02   4.54899540e+01  -6.49581031e+02  -4.09385793e+03\n",
      "  -3.72319393e+03  -4.06221832e+03  -3.51165278e+03  -3.81343787e+03\n",
      "  -4.36197956e+03  -4.83503771e+03   4.16696987e+02   1.65777743e+02\n",
      "   5.49447536e+02   8.06072207e+02   5.87194682e+02   2.39819398e+02\n",
      "   5.44130716e+02   1.76260384e+02   1.46177072e+02   7.71950403e+02\n",
      "   2.94527244e+02   5.77128374e+02   8.43650003e+02  -5.50312660e+03\n",
      "  -5.35252438e+03  -5.19757337e+03  -5.72024120e+03  -5.61508495e+03\n",
      "  -5.81308063e+03  -5.09857799e+03  -5.62933094e+03  -5.03460704e+03\n",
      "  -5.59385048e+03  -5.34437607e+03  -5.25088412e+03  -5.22469498e+03\n",
      "   4.59110882e+02   3.65273069e+02   6.40778009e+02   4.33546058e+02\n",
      "   8.75406729e+02   1.00204196e+02   3.21492595e+02   5.54600114e+02\n",
      "   3.50905583e+03  -1.26948694e+02   5.51007195e+01  -6.35098627e+02\n",
      "  -7.70921398e+02   9.17499873e+01  -8.56372629e+02   3.46664121e+02\n",
      "   3.06136534e+02  -1.03364870e+02   5.70228243e+02   4.25268979e+02\n",
      "  -1.33404557e+02   5.06107741e+02   1.96598395e+02   3.66130958e+02\n",
      "  -3.00200134e+02   5.67324263e+01  -1.54545355e+02   1.92728654e+02\n",
      "   4.06905790e+02   3.16939317e+02   6.35855579e+02  -5.64988765e+02\n",
      "  -3.62603818e+02  -1.76716519e+02  -3.90504338e+01  -2.97741153e+01\n",
      "   3.24649167e+02   1.59256121e+02   3.96084101e+02   1.59675004e+02\n",
      "   4.43199288e+01   3.77514455e+03   7.19477156e+00   1.37648504e+01\n",
      "   1.59665285e+01   6.35146696e+00   4.82322312e+01   2.92521762e+01\n",
      "   3.48431593e+01  -7.53053945e+01  -1.72649722e+01   1.34224436e+01\n",
      "   7.51146461e+01  -1.50017969e+01   5.76864792e+03   1.14174761e+02\n",
      "   1.28343299e+02  -1.66488944e+01  -1.51486857e+01  -1.35675038e+01\n",
      "   1.04285236e+00   1.16089723e-01  -5.71836489e+01  -4.55511566e+00\n",
      "   4.38521326e-01   3.30753837e+01   6.14736336e-01  -1.15224757e+00\n",
      "  -2.64346997e+00   7.41336513e+01   8.83520789e+00  -3.40800362e+00\n",
      "   1.31494314e+00   1.86814556e-01   2.99760381e-01   1.10521514e+00\n",
      "   1.72225643e+00   1.34143350e+00  -6.76088856e-01  -1.93179530e+00\n",
      "  -1.44901742e+00   2.58512041e-02]\n",
      "Mean squared error: 4380230.33\n",
      "Variance score: 0.48\n"
     ]
    }
   ],
   "source": [
    "# Evaluation metrics on test data\n",
    "# The coefficients\n",
    "print('Coefficients: \\n', regr.coef_)\n",
    "# The mean squared error\n",
    "print(\"Mean squared error: %.2f\"\n",
    " % np.mean((regr.predict(train_x_le1) - train_y) ** 2))\n",
    "# Explained variance score: 1 is perfect prediction\n",
    "print('Variance score: %.2f' % regr.score(train_x_le1, train_y))"
   ]
  },
  {
   "cell_type": "code",
   "execution_count": 14,
   "metadata": {
    "collapsed": true
   },
   "outputs": [],
   "source": [
    "test_x_le1 = test_x.apply(le.fit_transform)"
   ]
  },
  {
   "cell_type": "code",
   "execution_count": 16,
   "metadata": {
    "collapsed": true
   },
   "outputs": [],
   "source": [
    "val_le1 = pd.Series(regr.predict(test_x_le1))"
   ]
  },
  {
   "cell_type": "code",
   "execution_count": 17,
   "metadata": {
    "collapsed": true
   },
   "outputs": [],
   "source": [
    "predictions['loss']=val_le1"
   ]
  },
  {
   "cell_type": "code",
   "execution_count": 18,
   "metadata": {},
   "outputs": [],
   "source": [
    "predictions.to_csv('predictions.csv',index = False)"
   ]
  }
 ],
 "metadata": {
  "kernelspec": {
   "display_name": "Python 3",
   "language": "python",
   "name": "python3"
  },
  "language_info": {
   "codemirror_mode": {
    "name": "ipython",
    "version": 3
   },
   "file_extension": ".py",
   "mimetype": "text/x-python",
   "name": "python",
   "nbconvert_exporter": "python",
   "pygments_lexer": "ipython3",
   "version": "3.6.1"
  }
 },
 "nbformat": 4,
 "nbformat_minor": 2
}
